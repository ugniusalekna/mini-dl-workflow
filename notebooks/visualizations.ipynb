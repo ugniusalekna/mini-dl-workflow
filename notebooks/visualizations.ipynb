{
 "cells": [
  {
   "cell_type": "code",
   "execution_count": null,
   "metadata": {},
   "outputs": [],
   "source": [
    "import warnings\n",
    "warnings.simplefilter(\"ignore\", FutureWarning)"
   ]
  },
  {
   "cell_type": "code",
   "execution_count": null,
   "metadata": {},
   "outputs": [],
   "source": [
    "SEED = 42\n",
    "NUM_CLASSES = 10\n",
    "IMAGE_SIZE = 32\n",
    "INPUT_CHANNELS = 3\n",
    "VAL_RATIO = 0.2\n",
    "BATCH_SIZE = 64\n",
    "NUM_WORKERS = 0\n",
    "NUM_EPOCHS = 10\n",
    "LEARNING_RATE = 0.01\n",
    "DATA_DIR = '../data/cifar10'\n",
    "LOG_DIR = '../runs'"
   ]
  },
  {
   "cell_type": "code",
   "execution_count": null,
   "metadata": {},
   "outputs": [],
   "source": [
    "from mdlw.augment import Augmenter\n",
    "from mdlw.dataset import ImageDataset\n",
    "from mdlw.utils.data import get_image_paths, make_class_map, train_val_split\n",
    "\n",
    "img_paths, class_map = get_image_paths(DATA_DIR), make_class_map(DATA_DIR)\n",
    "train_img_paths, val_img_paths = train_val_split(img_paths, val_ratio=VAL_RATIO, seed=SEED)\n",
    "\n",
    "train_dataset = ImageDataset(\n",
    "    image_paths=train_img_paths, \n",
    "    class_map=class_map, \n",
    "    transform=Augmenter(train=True, image_size=IMAGE_SIZE), \n",
    ")\n",
    "val_dataset = ImageDataset(\n",
    "    image_paths=val_img_paths,\n",
    "    class_map=class_map,\n",
    "    transform=Augmenter(train=False, image_size=IMAGE_SIZE), \n",
    ")"
   ]
  },
  {
   "cell_type": "code",
   "execution_count": null,
   "metadata": {},
   "outputs": [],
   "source": [
    "from mdlw.utils.visualize import show_image_grid\n",
    "\n",
    "show_image_grid(train_dataset, num_images=9)\n",
    "show_image_grid(val_dataset, num_images=9)"
   ]
  },
  {
   "cell_type": "code",
   "execution_count": null,
   "metadata": {},
   "outputs": [],
   "source": [
    "import torch\n",
    "from mdlw.utils.misc import get_device\n",
    "\n",
    "MODEL_PATH = \"../runs/run_1/best_model.pt\"\n",
    "\n",
    "device = get_device()\n",
    "model = torch.load(MODEL_PATH, map_location=device, weights_only=False)\n",
    "\n",
    "print(f'Total parameters of the model: {sum(p.numel() for p in model.parameters())}')\n",
    "model.eval()"
   ]
  },
  {
   "cell_type": "code",
   "execution_count": null,
   "metadata": {},
   "outputs": [],
   "source": [
    "import random\n",
    "import torch\n",
    "from mdlw.utils.visualize import show_image\n",
    "from mdlw.utils.data import reverse_class_map\n",
    "\n",
    "\n",
    "def show_prediction(model, dataset, device, correct=True):\n",
    "    reversed_map = reverse_class_map(dataset.class_map)\n",
    "    found = False\n",
    "    while not found:\n",
    "        img, label = random.choice(dataset)\n",
    "        logits = model(img.unsqueeze(0).to(device))\n",
    "        pred = torch.argmax(logits[0]).item()\n",
    "        \n",
    "        if (label == pred) == correct:\n",
    "            found = True\n",
    "            show_image(img, title=f'label: {reversed_map[label]}, prediction: {reversed_map[pred]}')"
   ]
  },
  {
   "cell_type": "code",
   "execution_count": null,
   "metadata": {},
   "outputs": [],
   "source": [
    "show_prediction(model, val_dataset, device, correct=True)"
   ]
  },
  {
   "cell_type": "code",
   "execution_count": null,
   "metadata": {},
   "outputs": [],
   "source": [
    "show_prediction(model, val_dataset, device, correct=False)"
   ]
  },
  {
   "cell_type": "code",
   "execution_count": null,
   "metadata": {},
   "outputs": [],
   "source": [
    "from mdlw.utils.visualize import visualize_fmap\n",
    "\n",
    "img, label = random.choice(val_dataset)\n",
    "visualize_fmap(model, img, layer_name='bn2', device=device, use_act=True)"
   ]
  }
 ],
 "metadata": {
  "kernelspec": {
   "display_name": ".venv",
   "language": "python",
   "name": "python3"
  },
  "language_info": {
   "codemirror_mode": {
    "name": "ipython",
    "version": 3
   },
   "file_extension": ".py",
   "mimetype": "text/x-python",
   "name": "python",
   "nbconvert_exporter": "python",
   "pygments_lexer": "ipython3",
   "version": "3.11.9"
  }
 },
 "nbformat": 4,
 "nbformat_minor": 2
}
